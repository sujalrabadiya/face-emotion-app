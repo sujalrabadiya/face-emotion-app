{
  "cells": [
    {
      "cell_type": "markdown",
      "id": "-ZAFNI9UfGNW",
      "metadata": {
        "id": "-ZAFNI9UfGNW"
      },
      "source": [
        "# Emotion Detection Model Training\n",
        "This notebook trains a CNN model on an emotion dataset (FER-2013)."
      ]
    },
    {
      "cell_type": "markdown",
      "id": "iLstQhYyjghP",
      "metadata": {
        "id": "iLstQhYyjghP"
      },
      "source": [
        "## Step 1: Setup"
      ]
    },
    {
      "cell_type": "code",
      "execution_count": null,
      "id": "DLrOtGitfGNX",
      "metadata": {
        "id": "DLrOtGitfGNX",
        "colab": {
          "base_uri": "https://localhost:8080/",
          "height": 1000
        },
        "outputId": "d227a2df-ffa8-4a6d-bee0-a13ac561e4c5"
      },
      "outputs": [
        {
          "output_type": "stream",
          "name": "stdout",
          "text": [
            "Collecting tensorflow==2.15.0\n",
            "  Downloading tensorflow-2.15.0-cp311-cp311-manylinux_2_17_x86_64.manylinux2014_x86_64.whl.metadata (4.4 kB)\n",
            "Collecting keras==2.15.0\n",
            "  Downloading keras-2.15.0-py3-none-any.whl.metadata (2.4 kB)\n",
            "Collecting opencv-python-headless==4.9.0.80\n",
            "  Downloading opencv_python_headless-4.9.0.80-cp37-abi3-manylinux_2_17_x86_64.manylinux2014_x86_64.whl.metadata (20 kB)\n",
            "Requirement already satisfied: matplotlib in /usr/local/lib/python3.11/dist-packages (3.10.0)\n",
            "Collecting numpy==1.26.4\n",
            "  Downloading numpy-1.26.4-cp311-cp311-manylinux_2_17_x86_64.manylinux2014_x86_64.whl.metadata (61 kB)\n",
            "\u001b[2K     \u001b[90m━━━━━━━━━━━━━━━━━━━━━━━━━━━━━━━━━━━━━━━━\u001b[0m \u001b[32m61.0/61.0 kB\u001b[0m \u001b[31m3.6 MB/s\u001b[0m eta \u001b[36m0:00:00\u001b[0m\n",
            "\u001b[?25hCollecting Pillow==10.3.0\n",
            "  Downloading pillow-10.3.0-cp311-cp311-manylinux_2_28_x86_64.whl.metadata (9.2 kB)\n",
            "Requirement already satisfied: absl-py>=1.0.0 in /usr/local/lib/python3.11/dist-packages (from tensorflow==2.15.0) (1.4.0)\n",
            "Requirement already satisfied: astunparse>=1.6.0 in /usr/local/lib/python3.11/dist-packages (from tensorflow==2.15.0) (1.6.3)\n",
            "Requirement already satisfied: flatbuffers>=23.5.26 in /usr/local/lib/python3.11/dist-packages (from tensorflow==2.15.0) (25.2.10)\n",
            "Requirement already satisfied: gast!=0.5.0,!=0.5.1,!=0.5.2,>=0.2.1 in /usr/local/lib/python3.11/dist-packages (from tensorflow==2.15.0) (0.6.0)\n",
            "Requirement already satisfied: google-pasta>=0.1.1 in /usr/local/lib/python3.11/dist-packages (from tensorflow==2.15.0) (0.2.0)\n",
            "Requirement already satisfied: h5py>=2.9.0 in /usr/local/lib/python3.11/dist-packages (from tensorflow==2.15.0) (3.14.0)\n",
            "Requirement already satisfied: libclang>=13.0.0 in /usr/local/lib/python3.11/dist-packages (from tensorflow==2.15.0) (18.1.1)\n",
            "Collecting ml-dtypes~=0.2.0 (from tensorflow==2.15.0)\n",
            "  Downloading ml_dtypes-0.2.0-cp311-cp311-manylinux_2_17_x86_64.manylinux2014_x86_64.whl.metadata (20 kB)\n",
            "Requirement already satisfied: opt-einsum>=2.3.2 in /usr/local/lib/python3.11/dist-packages (from tensorflow==2.15.0) (3.4.0)\n",
            "Requirement already satisfied: packaging in /usr/local/lib/python3.11/dist-packages (from tensorflow==2.15.0) (25.0)\n",
            "Collecting protobuf!=4.21.0,!=4.21.1,!=4.21.2,!=4.21.3,!=4.21.4,!=4.21.5,<5.0.0dev,>=3.20.3 (from tensorflow==2.15.0)\n",
            "  Downloading protobuf-4.25.8-cp37-abi3-manylinux2014_x86_64.whl.metadata (541 bytes)\n",
            "Requirement already satisfied: setuptools in /usr/local/lib/python3.11/dist-packages (from tensorflow==2.15.0) (75.2.0)\n",
            "Requirement already satisfied: six>=1.12.0 in /usr/local/lib/python3.11/dist-packages (from tensorflow==2.15.0) (1.17.0)\n",
            "Requirement already satisfied: termcolor>=1.1.0 in /usr/local/lib/python3.11/dist-packages (from tensorflow==2.15.0) (3.1.0)\n",
            "Requirement already satisfied: typing-extensions>=3.6.6 in /usr/local/lib/python3.11/dist-packages (from tensorflow==2.15.0) (4.14.1)\n",
            "Collecting wrapt<1.15,>=1.11.0 (from tensorflow==2.15.0)\n",
            "  Downloading wrapt-1.14.1-cp311-cp311-manylinux_2_5_x86_64.manylinux1_x86_64.manylinux_2_17_x86_64.manylinux2014_x86_64.whl.metadata (6.7 kB)\n",
            "Requirement already satisfied: tensorflow-io-gcs-filesystem>=0.23.1 in /usr/local/lib/python3.11/dist-packages (from tensorflow==2.15.0) (0.37.1)\n",
            "Requirement already satisfied: grpcio<2.0,>=1.24.3 in /usr/local/lib/python3.11/dist-packages (from tensorflow==2.15.0) (1.74.0)\n",
            "Collecting tensorboard<2.16,>=2.15 (from tensorflow==2.15.0)\n",
            "  Downloading tensorboard-2.15.2-py3-none-any.whl.metadata (1.7 kB)\n",
            "Collecting tensorflow-estimator<2.16,>=2.15.0 (from tensorflow==2.15.0)\n",
            "  Downloading tensorflow_estimator-2.15.0-py2.py3-none-any.whl.metadata (1.3 kB)\n",
            "Requirement already satisfied: contourpy>=1.0.1 in /usr/local/lib/python3.11/dist-packages (from matplotlib) (1.3.2)\n",
            "Requirement already satisfied: cycler>=0.10 in /usr/local/lib/python3.11/dist-packages (from matplotlib) (0.12.1)\n",
            "Requirement already satisfied: fonttools>=4.22.0 in /usr/local/lib/python3.11/dist-packages (from matplotlib) (4.59.0)\n",
            "Requirement already satisfied: kiwisolver>=1.3.1 in /usr/local/lib/python3.11/dist-packages (from matplotlib) (1.4.8)\n",
            "Requirement already satisfied: pyparsing>=2.3.1 in /usr/local/lib/python3.11/dist-packages (from matplotlib) (3.2.3)\n",
            "Requirement already satisfied: python-dateutil>=2.7 in /usr/local/lib/python3.11/dist-packages (from matplotlib) (2.9.0.post0)\n",
            "Requirement already satisfied: wheel<1.0,>=0.23.0 in /usr/local/lib/python3.11/dist-packages (from astunparse>=1.6.0->tensorflow==2.15.0) (0.45.1)\n",
            "Requirement already satisfied: google-auth<3,>=1.6.3 in /usr/local/lib/python3.11/dist-packages (from tensorboard<2.16,>=2.15->tensorflow==2.15.0) (2.38.0)\n",
            "Requirement already satisfied: google-auth-oauthlib<2,>=0.5 in /usr/local/lib/python3.11/dist-packages (from tensorboard<2.16,>=2.15->tensorflow==2.15.0) (1.2.2)\n",
            "Requirement already satisfied: markdown>=2.6.8 in /usr/local/lib/python3.11/dist-packages (from tensorboard<2.16,>=2.15->tensorflow==2.15.0) (3.8.2)\n",
            "Requirement already satisfied: requests<3,>=2.21.0 in /usr/local/lib/python3.11/dist-packages (from tensorboard<2.16,>=2.15->tensorflow==2.15.0) (2.32.3)\n",
            "Requirement already satisfied: tensorboard-data-server<0.8.0,>=0.7.0 in /usr/local/lib/python3.11/dist-packages (from tensorboard<2.16,>=2.15->tensorflow==2.15.0) (0.7.2)\n",
            "Requirement already satisfied: werkzeug>=1.0.1 in /usr/local/lib/python3.11/dist-packages (from tensorboard<2.16,>=2.15->tensorflow==2.15.0) (3.1.3)\n",
            "Requirement already satisfied: cachetools<6.0,>=2.0.0 in /usr/local/lib/python3.11/dist-packages (from google-auth<3,>=1.6.3->tensorboard<2.16,>=2.15->tensorflow==2.15.0) (5.5.2)\n",
            "Requirement already satisfied: pyasn1-modules>=0.2.1 in /usr/local/lib/python3.11/dist-packages (from google-auth<3,>=1.6.3->tensorboard<2.16,>=2.15->tensorflow==2.15.0) (0.4.2)\n",
            "Requirement already satisfied: rsa<5,>=3.1.4 in /usr/local/lib/python3.11/dist-packages (from google-auth<3,>=1.6.3->tensorboard<2.16,>=2.15->tensorflow==2.15.0) (4.9.1)\n",
            "Requirement already satisfied: requests-oauthlib>=0.7.0 in /usr/local/lib/python3.11/dist-packages (from google-auth-oauthlib<2,>=0.5->tensorboard<2.16,>=2.15->tensorflow==2.15.0) (2.0.0)\n",
            "Requirement already satisfied: charset-normalizer<4,>=2 in /usr/local/lib/python3.11/dist-packages (from requests<3,>=2.21.0->tensorboard<2.16,>=2.15->tensorflow==2.15.0) (3.4.2)\n",
            "Requirement already satisfied: idna<4,>=2.5 in /usr/local/lib/python3.11/dist-packages (from requests<3,>=2.21.0->tensorboard<2.16,>=2.15->tensorflow==2.15.0) (3.10)\n",
            "Requirement already satisfied: urllib3<3,>=1.21.1 in /usr/local/lib/python3.11/dist-packages (from requests<3,>=2.21.0->tensorboard<2.16,>=2.15->tensorflow==2.15.0) (2.5.0)\n",
            "Requirement already satisfied: certifi>=2017.4.17 in /usr/local/lib/python3.11/dist-packages (from requests<3,>=2.21.0->tensorboard<2.16,>=2.15->tensorflow==2.15.0) (2025.7.14)\n",
            "Requirement already satisfied: MarkupSafe>=2.1.1 in /usr/local/lib/python3.11/dist-packages (from werkzeug>=1.0.1->tensorboard<2.16,>=2.15->tensorflow==2.15.0) (3.0.2)\n",
            "Requirement already satisfied: pyasn1<0.7.0,>=0.6.1 in /usr/local/lib/python3.11/dist-packages (from pyasn1-modules>=0.2.1->google-auth<3,>=1.6.3->tensorboard<2.16,>=2.15->tensorflow==2.15.0) (0.6.1)\n",
            "Requirement already satisfied: oauthlib>=3.0.0 in /usr/local/lib/python3.11/dist-packages (from requests-oauthlib>=0.7.0->google-auth-oauthlib<2,>=0.5->tensorboard<2.16,>=2.15->tensorflow==2.15.0) (3.3.1)\n",
            "Downloading tensorflow-2.15.0-cp311-cp311-manylinux_2_17_x86_64.manylinux2014_x86_64.whl (475.3 MB)\n",
            "\u001b[2K   \u001b[90m━━━━━━━━━━━━━━━━━━━━━━━━━━━━━━━━━━━━━━━━\u001b[0m \u001b[32m475.3/475.3 MB\u001b[0m \u001b[31m3.3 MB/s\u001b[0m eta \u001b[36m0:00:00\u001b[0m\n",
            "\u001b[?25hDownloading keras-2.15.0-py3-none-any.whl (1.7 MB)\n",
            "\u001b[2K   \u001b[90m━━━━━━━━━━━━━━━━━━━━━━━━━━━━━━━━━━━━━━━━\u001b[0m \u001b[32m1.7/1.7 MB\u001b[0m \u001b[31m55.3 MB/s\u001b[0m eta \u001b[36m0:00:00\u001b[0m\n",
            "\u001b[?25hDownloading opencv_python_headless-4.9.0.80-cp37-abi3-manylinux_2_17_x86_64.manylinux2014_x86_64.whl (49.6 MB)\n",
            "\u001b[2K   \u001b[90m━━━━━━━━━━━━━━━━━━━━━━━━━━━━━━━━━━━━━━━━\u001b[0m \u001b[32m49.6/49.6 MB\u001b[0m \u001b[31m8.6 MB/s\u001b[0m eta \u001b[36m0:00:00\u001b[0m\n",
            "\u001b[?25hDownloading numpy-1.26.4-cp311-cp311-manylinux_2_17_x86_64.manylinux2014_x86_64.whl (18.3 MB)\n",
            "\u001b[2K   \u001b[90m━━━━━━━━━━━━━━━━━━━━━━━━━━━━━━━━━━━━━━━━\u001b[0m \u001b[32m18.3/18.3 MB\u001b[0m \u001b[31m102.4 MB/s\u001b[0m eta \u001b[36m0:00:00\u001b[0m\n",
            "\u001b[?25hDownloading pillow-10.3.0-cp311-cp311-manylinux_2_28_x86_64.whl (4.5 MB)\n",
            "\u001b[2K   \u001b[90m━━━━━━━━━━━━━━━━━━━━━━━━━━━━━━━━━━━━━━━━\u001b[0m \u001b[32m4.5/4.5 MB\u001b[0m \u001b[31m103.0 MB/s\u001b[0m eta \u001b[36m0:00:00\u001b[0m\n",
            "\u001b[?25hDownloading ml_dtypes-0.2.0-cp311-cp311-manylinux_2_17_x86_64.manylinux2014_x86_64.whl (1.0 MB)\n",
            "\u001b[2K   \u001b[90m━━━━━━━━━━━━━━━━━━━━━━━━━━━━━━━━━━━━━━━━\u001b[0m \u001b[32m1.0/1.0 MB\u001b[0m \u001b[31m53.0 MB/s\u001b[0m eta \u001b[36m0:00:00\u001b[0m\n",
            "\u001b[?25hDownloading protobuf-4.25.8-cp37-abi3-manylinux2014_x86_64.whl (294 kB)\n",
            "\u001b[2K   \u001b[90m━━━━━━━━━━━━━━━━━━━━━━━━━━━━━━━━━━━━━━━━\u001b[0m \u001b[32m294.9/294.9 kB\u001b[0m \u001b[31m19.3 MB/s\u001b[0m eta \u001b[36m0:00:00\u001b[0m\n",
            "\u001b[?25hDownloading tensorboard-2.15.2-py3-none-any.whl (5.5 MB)\n",
            "\u001b[2K   \u001b[90m━━━━━━━━━━━━━━━━━━━━━━━━━━━━━━━━━━━━━━━━\u001b[0m \u001b[32m5.5/5.5 MB\u001b[0m \u001b[31m103.4 MB/s\u001b[0m eta \u001b[36m0:00:00\u001b[0m\n",
            "\u001b[?25hDownloading tensorflow_estimator-2.15.0-py2.py3-none-any.whl (441 kB)\n",
            "\u001b[2K   \u001b[90m━━━━━━━━━━━━━━━━━━━━━━━━━━━━━━━━━━━━━━━━\u001b[0m \u001b[32m442.0/442.0 kB\u001b[0m \u001b[31m28.9 MB/s\u001b[0m eta \u001b[36m0:00:00\u001b[0m\n",
            "\u001b[?25hDownloading wrapt-1.14.1-cp311-cp311-manylinux_2_5_x86_64.manylinux1_x86_64.manylinux_2_17_x86_64.manylinux2014_x86_64.whl (78 kB)\n",
            "\u001b[2K   \u001b[90m━━━━━━━━━━━━━━━━━━━━━━━━━━━━━━━━━━━━━━━━\u001b[0m \u001b[32m78.4/78.4 kB\u001b[0m \u001b[31m6.0 MB/s\u001b[0m eta \u001b[36m0:00:00\u001b[0m\n",
            "\u001b[?25hInstalling collected packages: wrapt, tensorflow-estimator, protobuf, Pillow, numpy, keras, opencv-python-headless, ml-dtypes, tensorboard, tensorflow\n",
            "  Attempting uninstall: wrapt\n",
            "    Found existing installation: wrapt 1.17.2\n",
            "    Uninstalling wrapt-1.17.2:\n",
            "      Successfully uninstalled wrapt-1.17.2\n",
            "  Attempting uninstall: protobuf\n",
            "    Found existing installation: protobuf 5.29.5\n",
            "    Uninstalling protobuf-5.29.5:\n",
            "      Successfully uninstalled protobuf-5.29.5\n",
            "  Attempting uninstall: Pillow\n",
            "    Found existing installation: pillow 11.3.0\n",
            "    Uninstalling pillow-11.3.0:\n",
            "      Successfully uninstalled pillow-11.3.0\n",
            "  Attempting uninstall: numpy\n",
            "    Found existing installation: numpy 2.0.2\n",
            "    Uninstalling numpy-2.0.2:\n",
            "      Successfully uninstalled numpy-2.0.2\n",
            "  Attempting uninstall: keras\n",
            "    Found existing installation: keras 3.8.0\n",
            "    Uninstalling keras-3.8.0:\n",
            "      Successfully uninstalled keras-3.8.0\n",
            "  Attempting uninstall: opencv-python-headless\n",
            "    Found existing installation: opencv-python-headless 4.12.0.88\n",
            "    Uninstalling opencv-python-headless-4.12.0.88:\n",
            "      Successfully uninstalled opencv-python-headless-4.12.0.88\n",
            "  Attempting uninstall: ml-dtypes\n",
            "    Found existing installation: ml-dtypes 0.4.1\n",
            "    Uninstalling ml-dtypes-0.4.1:\n",
            "      Successfully uninstalled ml-dtypes-0.4.1\n",
            "  Attempting uninstall: tensorboard\n",
            "    Found existing installation: tensorboard 2.18.0\n",
            "    Uninstalling tensorboard-2.18.0:\n",
            "      Successfully uninstalled tensorboard-2.18.0\n",
            "  Attempting uninstall: tensorflow\n",
            "    Found existing installation: tensorflow 2.18.0\n",
            "    Uninstalling tensorflow-2.18.0:\n",
            "      Successfully uninstalled tensorflow-2.18.0\n",
            "\u001b[31mERROR: pip's dependency resolver does not currently take into account all the packages that are installed. This behaviour is the source of the following dependency conflicts.\n",
            "jax 0.5.2 requires ml_dtypes>=0.4.0, but you have ml-dtypes 0.2.0 which is incompatible.\n",
            "opencv-python 4.12.0.88 requires numpy<2.3.0,>=2; python_version >= \"3.9\", but you have numpy 1.26.4 which is incompatible.\n",
            "opencv-contrib-python 4.12.0.88 requires numpy<2.3.0,>=2; python_version >= \"3.9\", but you have numpy 1.26.4 which is incompatible.\n",
            "tensorflow-text 2.18.1 requires tensorflow<2.19,>=2.18.0, but you have tensorflow 2.15.0 which is incompatible.\n",
            "ydf 0.13.0 requires protobuf<7.0.0,>=5.29.1, but you have protobuf 4.25.8 which is incompatible.\n",
            "thinc 8.3.6 requires numpy<3.0.0,>=2.0.0, but you have numpy 1.26.4 which is incompatible.\n",
            "tensorflow-decision-forests 1.11.0 requires tensorflow==2.18.0, but you have tensorflow 2.15.0 which is incompatible.\n",
            "grpcio-status 1.71.2 requires protobuf<6.0dev,>=5.26.1, but you have protobuf 4.25.8 which is incompatible.\n",
            "tensorstore 0.1.74 requires ml_dtypes>=0.3.1, but you have ml-dtypes 0.2.0 which is incompatible.\n",
            "tf-keras 2.18.0 requires tensorflow<2.19,>=2.18, but you have tensorflow 2.15.0 which is incompatible.\u001b[0m\u001b[31m\n",
            "\u001b[0mSuccessfully installed Pillow-10.3.0 keras-2.15.0 ml-dtypes-0.2.0 numpy-1.26.4 opencv-python-headless-4.9.0.80 protobuf-4.25.8 tensorboard-2.15.2 tensorflow-2.15.0 tensorflow-estimator-2.15.0 wrapt-1.14.1\n"
          ]
        },
        {
          "output_type": "display_data",
          "data": {
            "application/vnd.colab-display-data+json": {
              "pip_warning": {
                "packages": [
                  "google",
                  "numpy"
                ]
              },
              "id": "92e362fed5b14e24830819aa0becf238"
            }
          },
          "metadata": {}
        }
      ],
      "source": [
        "# Install required packages\n",
        "!pip install tensorflow==2.15.0 keras==2.15.0 opencv-python-headless==4.9.0.80 matplotlib numpy==1.26.4 Pillow==10.3.0"
      ]
    },
    {
      "cell_type": "markdown",
      "id": "-T-M4bpyjjU3",
      "metadata": {
        "id": "-T-M4bpyjjU3"
      },
      "source": [
        "## Step 2: Import libraries"
      ]
    },
    {
      "cell_type": "code",
      "execution_count": null,
      "id": "YkJSpj9GfGNY",
      "metadata": {
        "id": "YkJSpj9GfGNY"
      },
      "outputs": [],
      "source": [
        "import os\n",
        "import cv2\n",
        "import numpy as np\n",
        "import matplotlib.pyplot as plt\n",
        "from keras.models import Sequential\n",
        "from keras.layers import Conv2D, BatchNormalization, MaxPooling2D, Flatten, Dense, Dropout\n",
        "from keras.utils import to_categorical\n",
        "from keras.preprocessing.image import ImageDataGenerator\n",
        "from keras.callbacks import ReduceLROnPlateau\n",
        "from keras.optimizers import Adam"
      ]
    },
    {
      "cell_type": "markdown",
      "id": "gAb7ng-TjXzN",
      "metadata": {
        "id": "gAb7ng-TjXzN"
      },
      "source": [
        "## Step 3: Upload dataset"
      ]
    },
    {
      "cell_type": "code",
      "execution_count": null,
      "id": "5nO8XXTqjpte",
      "metadata": {
        "colab": {
          "base_uri": "https://localhost:8080/",
          "height": 73
        },
        "id": "5nO8XXTqjpte",
        "outputId": "76bf35ee-e686-4d21-c64d-64d450364962"
      },
      "outputs": [
        {
          "output_type": "display_data",
          "data": {
            "text/plain": [
              "<IPython.core.display.HTML object>"
            ],
            "text/html": [
              "\n",
              "     <input type=\"file\" id=\"files-b59590c0-16e7-492a-bb75-91556ec4a415\" name=\"files[]\" multiple disabled\n",
              "        style=\"border:none\" />\n",
              "     <output id=\"result-b59590c0-16e7-492a-bb75-91556ec4a415\">\n",
              "      Upload widget is only available when the cell has been executed in the\n",
              "      current browser session. Please rerun this cell to enable.\n",
              "      </output>\n",
              "      <script>// Copyright 2017 Google LLC\n",
              "//\n",
              "// Licensed under the Apache License, Version 2.0 (the \"License\");\n",
              "// you may not use this file except in compliance with the License.\n",
              "// You may obtain a copy of the License at\n",
              "//\n",
              "//      http://www.apache.org/licenses/LICENSE-2.0\n",
              "//\n",
              "// Unless required by applicable law or agreed to in writing, software\n",
              "// distributed under the License is distributed on an \"AS IS\" BASIS,\n",
              "// WITHOUT WARRANTIES OR CONDITIONS OF ANY KIND, either express or implied.\n",
              "// See the License for the specific language governing permissions and\n",
              "// limitations under the License.\n",
              "\n",
              "/**\n",
              " * @fileoverview Helpers for google.colab Python module.\n",
              " */\n",
              "(function(scope) {\n",
              "function span(text, styleAttributes = {}) {\n",
              "  const element = document.createElement('span');\n",
              "  element.textContent = text;\n",
              "  for (const key of Object.keys(styleAttributes)) {\n",
              "    element.style[key] = styleAttributes[key];\n",
              "  }\n",
              "  return element;\n",
              "}\n",
              "\n",
              "// Max number of bytes which will be uploaded at a time.\n",
              "const MAX_PAYLOAD_SIZE = 100 * 1024;\n",
              "\n",
              "function _uploadFiles(inputId, outputId) {\n",
              "  const steps = uploadFilesStep(inputId, outputId);\n",
              "  const outputElement = document.getElementById(outputId);\n",
              "  // Cache steps on the outputElement to make it available for the next call\n",
              "  // to uploadFilesContinue from Python.\n",
              "  outputElement.steps = steps;\n",
              "\n",
              "  return _uploadFilesContinue(outputId);\n",
              "}\n",
              "\n",
              "// This is roughly an async generator (not supported in the browser yet),\n",
              "// where there are multiple asynchronous steps and the Python side is going\n",
              "// to poll for completion of each step.\n",
              "// This uses a Promise to block the python side on completion of each step,\n",
              "// then passes the result of the previous step as the input to the next step.\n",
              "function _uploadFilesContinue(outputId) {\n",
              "  const outputElement = document.getElementById(outputId);\n",
              "  const steps = outputElement.steps;\n",
              "\n",
              "  const next = steps.next(outputElement.lastPromiseValue);\n",
              "  return Promise.resolve(next.value.promise).then((value) => {\n",
              "    // Cache the last promise value to make it available to the next\n",
              "    // step of the generator.\n",
              "    outputElement.lastPromiseValue = value;\n",
              "    return next.value.response;\n",
              "  });\n",
              "}\n",
              "\n",
              "/**\n",
              " * Generator function which is called between each async step of the upload\n",
              " * process.\n",
              " * @param {string} inputId Element ID of the input file picker element.\n",
              " * @param {string} outputId Element ID of the output display.\n",
              " * @return {!Iterable<!Object>} Iterable of next steps.\n",
              " */\n",
              "function* uploadFilesStep(inputId, outputId) {\n",
              "  const inputElement = document.getElementById(inputId);\n",
              "  inputElement.disabled = false;\n",
              "\n",
              "  const outputElement = document.getElementById(outputId);\n",
              "  outputElement.innerHTML = '';\n",
              "\n",
              "  const pickedPromise = new Promise((resolve) => {\n",
              "    inputElement.addEventListener('change', (e) => {\n",
              "      resolve(e.target.files);\n",
              "    });\n",
              "  });\n",
              "\n",
              "  const cancel = document.createElement('button');\n",
              "  inputElement.parentElement.appendChild(cancel);\n",
              "  cancel.textContent = 'Cancel upload';\n",
              "  const cancelPromise = new Promise((resolve) => {\n",
              "    cancel.onclick = () => {\n",
              "      resolve(null);\n",
              "    };\n",
              "  });\n",
              "\n",
              "  // Wait for the user to pick the files.\n",
              "  const files = yield {\n",
              "    promise: Promise.race([pickedPromise, cancelPromise]),\n",
              "    response: {\n",
              "      action: 'starting',\n",
              "    }\n",
              "  };\n",
              "\n",
              "  cancel.remove();\n",
              "\n",
              "  // Disable the input element since further picks are not allowed.\n",
              "  inputElement.disabled = true;\n",
              "\n",
              "  if (!files) {\n",
              "    return {\n",
              "      response: {\n",
              "        action: 'complete',\n",
              "      }\n",
              "    };\n",
              "  }\n",
              "\n",
              "  for (const file of files) {\n",
              "    const li = document.createElement('li');\n",
              "    li.append(span(file.name, {fontWeight: 'bold'}));\n",
              "    li.append(span(\n",
              "        `(${file.type || 'n/a'}) - ${file.size} bytes, ` +\n",
              "        `last modified: ${\n",
              "            file.lastModifiedDate ? file.lastModifiedDate.toLocaleDateString() :\n",
              "                                    'n/a'} - `));\n",
              "    const percent = span('0% done');\n",
              "    li.appendChild(percent);\n",
              "\n",
              "    outputElement.appendChild(li);\n",
              "\n",
              "    const fileDataPromise = new Promise((resolve) => {\n",
              "      const reader = new FileReader();\n",
              "      reader.onload = (e) => {\n",
              "        resolve(e.target.result);\n",
              "      };\n",
              "      reader.readAsArrayBuffer(file);\n",
              "    });\n",
              "    // Wait for the data to be ready.\n",
              "    let fileData = yield {\n",
              "      promise: fileDataPromise,\n",
              "      response: {\n",
              "        action: 'continue',\n",
              "      }\n",
              "    };\n",
              "\n",
              "    // Use a chunked sending to avoid message size limits. See b/62115660.\n",
              "    let position = 0;\n",
              "    do {\n",
              "      const length = Math.min(fileData.byteLength - position, MAX_PAYLOAD_SIZE);\n",
              "      const chunk = new Uint8Array(fileData, position, length);\n",
              "      position += length;\n",
              "\n",
              "      const base64 = btoa(String.fromCharCode.apply(null, chunk));\n",
              "      yield {\n",
              "        response: {\n",
              "          action: 'append',\n",
              "          file: file.name,\n",
              "          data: base64,\n",
              "        },\n",
              "      };\n",
              "\n",
              "      let percentDone = fileData.byteLength === 0 ?\n",
              "          100 :\n",
              "          Math.round((position / fileData.byteLength) * 100);\n",
              "      percent.textContent = `${percentDone}% done`;\n",
              "\n",
              "    } while (position < fileData.byteLength);\n",
              "  }\n",
              "\n",
              "  // All done.\n",
              "  yield {\n",
              "    response: {\n",
              "      action: 'complete',\n",
              "    }\n",
              "  };\n",
              "}\n",
              "\n",
              "scope.google = scope.google || {};\n",
              "scope.google.colab = scope.google.colab || {};\n",
              "scope.google.colab._files = {\n",
              "  _uploadFiles,\n",
              "  _uploadFilesContinue,\n",
              "};\n",
              "})(self);\n",
              "</script> "
            ]
          },
          "metadata": {}
        },
        {
          "output_type": "stream",
          "name": "stdout",
          "text": [
            "Saving dataset.zip to dataset.zip\n"
          ]
        }
      ],
      "source": [
        "from google.colab import files\n",
        "uploaded = files.upload()"
      ]
    },
    {
      "cell_type": "markdown",
      "id": "Vi2KTALcjsa1",
      "metadata": {
        "id": "Vi2KTALcjsa1"
      },
      "source": [
        "## Step 4: Extract dataset"
      ]
    },
    {
      "cell_type": "code",
      "execution_count": null,
      "id": "DAoxV41TjyJ-",
      "metadata": {
        "id": "DAoxV41TjyJ-"
      },
      "outputs": [],
      "source": [
        "import zipfile\n",
        "import io\n",
        "for zip_name in uploaded:\n",
        "    with zipfile.ZipFile(io.BytesIO(uploaded[zip_name]), 'r') as zip_ref:\n",
        "        zip_ref.extractall(\"dataset\")\n",
        "\n",
        "# Paths\n",
        "train_dir = 'dataset/dataset/train'\n",
        "test_dir = 'dataset/dataset/test'"
      ]
    },
    {
      "cell_type": "markdown",
      "id": "ECj9RWF4fGNZ",
      "metadata": {
        "id": "ECj9RWF4fGNZ"
      },
      "source": [
        "## Step 5: Load and preprocess data"
      ]
    },
    {
      "cell_type": "code",
      "execution_count": null,
      "id": "1T19n1Dhj9vm",
      "metadata": {
        "id": "1T19n1Dhj9vm"
      },
      "outputs": [],
      "source": [
        "labels = {'angry': 0, 'happy': 1, 'sad': 2, 'neutral': 3, 'disgust': 4, 'fear': 5, 'surprise': 6}\n",
        "X_train, y_train = [], []\n",
        "\n",
        "for label in labels:\n",
        "    path = os.path.join(train_dir, label)\n",
        "    for img_name in os.listdir(path):\n",
        "        img_path = os.path.join(path, img_name)\n",
        "        img = cv2.imread(img_path, cv2.IMREAD_GRAYSCALE)\n",
        "        img = cv2.resize(img, (48, 48))\n",
        "        X_train.append(img)\n",
        "        y_train.append(labels[label])\n",
        "\n",
        "X_train = np.array(X_train).reshape(-1, 48, 48, 1) / 255.0\n",
        "y_train = to_categorical(y_train, num_classes=len(labels))\n",
        "\n",
        "X_test, y_test = [], []\n",
        "for label in labels:\n",
        "    path = os.path.join(test_dir, label)\n",
        "    for img_name in os.listdir(path):\n",
        "        img_path = os.path.join(path, img_name)\n",
        "        img = cv2.imread(img_path, cv2.IMREAD_GRAYSCALE)\n",
        "        img = cv2.resize(img, (48, 48))\n",
        "        X_test.append(img)\n",
        "        y_test.append(labels[label])\n",
        "\n",
        "X_test = np.array(X_test).reshape(-1, 48, 48, 1) / 255.0\n",
        "y_test = to_categorical(y_test, num_classes=len(labels))"
      ]
    },
    {
      "cell_type": "markdown",
      "id": "dd8eaa06",
      "metadata": {
        "id": "dd8eaa06"
      },
      "source": [
        "## Data augmentation\n",
        "\n",
        "### Subtask:\n",
        "Create an `ImageDataGenerator` for data augmentation and a `ReduceLROnPlateau` callback.\n"
      ]
    },
    {
      "cell_type": "markdown",
      "id": "4927bcf7",
      "metadata": {
        "id": "4927bcf7"
      },
      "source": [
        "**Reasoning**:\n",
        "Instantiate ImageDataGenerators for training and validation, and a ReduceLROnPlateau callback.\n",
        "\n"
      ]
    },
    {
      "cell_type": "code",
      "execution_count": null,
      "id": "5a67a23e",
      "metadata": {
        "id": "5a67a23e"
      },
      "outputs": [],
      "source": [
        "train_datagen = ImageDataGenerator(\n",
        "    rotation_range=20,\n",
        "    zoom_range=0.15,\n",
        "    width_shift_range=0.2,\n",
        "    height_shift_range=0.2,\n",
        "    horizontal_flip=True,\n",
        ")\n",
        "\n",
        "val_datagen = ImageDataGenerator() # No augmentation for validation data, only rescaling.\n",
        "\n",
        "# The rescaling is now handled by the ImageDataGenerator, so we don't need to do it here.\n",
        "# X_train = X_train * 255.0\n",
        "# X_test = X_test * 255.0\n",
        "\n",
        "\n",
        "reduce_lr = ReduceLROnPlateau(monitor='val_loss', factor=0.2, patience=5, min_lr=0.0001)"
      ]
    },
    {
      "cell_type": "markdown",
      "id": "g-S2odMyfGNZ",
      "metadata": {
        "id": "g-S2odMyfGNZ"
      },
      "source": [
        "## Step 6: Build model"
      ]
    },
    {
      "cell_type": "code",
      "execution_count": null,
      "id": "ewnsZcxvfGNa",
      "metadata": {
        "id": "ewnsZcxvfGNa"
      },
      "outputs": [],
      "source": [
        "model = Sequential([\n",
        "    Conv2D(32, (3,3), activation='relu', input_shape=(48,48,1)),\n",
        "    BatchNormalization(),\n",
        "    Conv2D(64, (3,3), activation='relu'),\n",
        "    BatchNormalization(),\n",
        "    MaxPooling2D((2,2)),\n",
        "    Dropout(0.25),\n",
        "    Conv2D(128, (3,3), activation='relu'),\n",
        "    BatchNormalization(),\n",
        "    MaxPooling2D((2,2)),\n",
        "    Dropout(0.25),\n",
        "    Conv2D(256, (3,3), activation='relu'),\n",
        "    BatchNormalization(),\n",
        "    MaxPooling2D((2,2)),\n",
        "    Dropout(0.25),\n",
        "    Flatten(),\n",
        "    Dense(256, activation='relu'),\n",
        "    BatchNormalization(),\n",
        "    Dropout(0.5),\n",
        "    Dense(len(labels), activation='softmax')\n",
        "])\n",
        "\n",
        "model.compile(optimizer='adam', loss='categorical_crossentropy', metrics=['accuracy'])"
      ]
    },
    {
      "cell_type": "markdown",
      "id": "OGO49oGlfGNb",
      "metadata": {
        "id": "OGO49oGlfGNb"
      },
      "source": [
        "## Step 7: Train model"
      ]
    },
    {
      "cell_type": "code",
      "execution_count": null,
      "id": "0a9db43c",
      "metadata": {
        "colab": {
          "base_uri": "https://localhost:8080/"
        },
        "id": "0a9db43c",
        "outputId": "3164f650-bb82-4124-961d-178a9f1a626f"
      },
      "outputs": [
        {
          "output_type": "stream",
          "name": "stdout",
          "text": [
            "Epoch 1/50\n",
            "898/898 [==============================] - 597s 661ms/step - loss: 2.0727 - accuracy: 0.2277 - val_loss: 2.3088 - val_accuracy: 0.2941 - lr: 0.0010\n",
            "Epoch 2/50\n",
            "898/898 [==============================] - 579s 644ms/step - loss: 1.7383 - accuracy: 0.3018 - val_loss: 1.6663 - val_accuracy: 0.3470 - lr: 0.0010\n",
            "Epoch 3/50\n",
            "898/898 [==============================] - 579s 645ms/step - loss: 1.5923 - accuracy: 0.3728 - val_loss: 1.4898 - val_accuracy: 0.4426 - lr: 0.0010\n",
            "Epoch 4/50\n",
            "898/898 [==============================] - 581s 647ms/step - loss: 1.4987 - accuracy: 0.4181 - val_loss: 1.5845 - val_accuracy: 0.4521 - lr: 0.0010\n",
            "Epoch 5/50\n",
            "898/898 [==============================] - 589s 656ms/step - loss: 1.4446 - accuracy: 0.4434 - val_loss: 1.2882 - val_accuracy: 0.5106 - lr: 0.0010\n",
            "Epoch 6/50\n",
            "898/898 [==============================] - 596s 664ms/step - loss: 1.4190 - accuracy: 0.4544 - val_loss: 1.3056 - val_accuracy: 0.4985 - lr: 0.0010\n",
            "Epoch 7/50\n",
            "898/898 [==============================] - 584s 651ms/step - loss: 1.3897 - accuracy: 0.4635 - val_loss: 1.2035 - val_accuracy: 0.5425 - lr: 0.0010\n",
            "Epoch 8/50\n",
            "898/898 [==============================] - 584s 650ms/step - loss: 1.3568 - accuracy: 0.4813 - val_loss: 1.1746 - val_accuracy: 0.5497 - lr: 0.0010\n",
            "Epoch 9/50\n",
            "898/898 [==============================] - 602s 671ms/step - loss: 1.3298 - accuracy: 0.4913 - val_loss: 1.1919 - val_accuracy: 0.5461 - lr: 0.0010\n",
            "Epoch 10/50\n",
            "898/898 [==============================] - 577s 643ms/step - loss: 1.3143 - accuracy: 0.4988 - val_loss: 1.1358 - val_accuracy: 0.5694 - lr: 0.0010\n",
            "Epoch 11/50\n",
            "898/898 [==============================] - 560s 624ms/step - loss: 1.2935 - accuracy: 0.5058 - val_loss: 1.1401 - val_accuracy: 0.5724 - lr: 0.0010\n",
            "Epoch 12/50\n",
            "898/898 [==============================] - 541s 603ms/step - loss: 1.2808 - accuracy: 0.5134 - val_loss: 1.1611 - val_accuracy: 0.5546 - lr: 0.0010\n",
            "Epoch 13/50\n",
            "898/898 [==============================] - 555s 618ms/step - loss: 1.2786 - accuracy: 0.5153 - val_loss: 1.1160 - val_accuracy: 0.5706 - lr: 0.0010\n",
            "Epoch 14/50\n",
            "898/898 [==============================] - 544s 606ms/step - loss: 1.2618 - accuracy: 0.5214 - val_loss: 1.1172 - val_accuracy: 0.5755 - lr: 0.0010\n",
            "Epoch 15/50\n",
            "898/898 [==============================] - 542s 603ms/step - loss: 1.2480 - accuracy: 0.5269 - val_loss: 1.1282 - val_accuracy: 0.5769 - lr: 0.0010\n",
            "Epoch 16/50\n",
            "898/898 [==============================] - 546s 609ms/step - loss: 1.2454 - accuracy: 0.5291 - val_loss: 1.1359 - val_accuracy: 0.5614 - lr: 0.0010\n",
            "Epoch 17/50\n",
            "898/898 [==============================] - 547s 609ms/step - loss: 1.2325 - accuracy: 0.5346 - val_loss: 1.1428 - val_accuracy: 0.5691 - lr: 0.0010\n",
            "Epoch 18/50\n",
            "898/898 [==============================] - 548s 610ms/step - loss: 1.2269 - accuracy: 0.5373 - val_loss: 1.0954 - val_accuracy: 0.5847 - lr: 0.0010\n",
            "Epoch 19/50\n",
            "898/898 [==============================] - 545s 607ms/step - loss: 1.2119 - accuracy: 0.5443 - val_loss: 1.0989 - val_accuracy: 0.5848 - lr: 0.0010\n",
            "Epoch 20/50\n",
            "898/898 [==============================] - 544s 606ms/step - loss: 1.2069 - accuracy: 0.5429 - val_loss: 1.0558 - val_accuracy: 0.6025 - lr: 0.0010\n",
            "Epoch 21/50\n",
            "898/898 [==============================] - 546s 608ms/step - loss: 1.2355 - accuracy: 0.5355 - val_loss: 1.2099 - val_accuracy: 0.5508 - lr: 0.0010\n",
            "Epoch 22/50\n",
            "898/898 [==============================] - 545s 607ms/step - loss: 1.2218 - accuracy: 0.5401 - val_loss: 1.0562 - val_accuracy: 0.5981 - lr: 0.0010\n",
            "Epoch 23/50\n",
            "898/898 [==============================] - 547s 609ms/step - loss: 1.2045 - accuracy: 0.5448 - val_loss: 1.0863 - val_accuracy: 0.5943 - lr: 0.0010\n",
            "Epoch 24/50\n",
            "898/898 [==============================] - 552s 615ms/step - loss: 1.1912 - accuracy: 0.5503 - val_loss: 1.0416 - val_accuracy: 0.6043 - lr: 0.0010\n",
            "Epoch 25/50\n",
            "898/898 [==============================] - 548s 610ms/step - loss: 1.1845 - accuracy: 0.5512 - val_loss: 1.0389 - val_accuracy: 0.6116 - lr: 0.0010\n",
            "Epoch 26/50\n",
            "898/898 [==============================] - 583s 649ms/step - loss: 1.1861 - accuracy: 0.5559 - val_loss: 1.1512 - val_accuracy: 0.5723 - lr: 0.0010\n",
            "Epoch 27/50\n",
            "898/898 [==============================] - 546s 608ms/step - loss: 1.1762 - accuracy: 0.5547 - val_loss: 1.0665 - val_accuracy: 0.5992 - lr: 0.0010\n",
            "Epoch 28/50\n",
            "898/898 [==============================] - 545s 606ms/step - loss: 1.1721 - accuracy: 0.5576 - val_loss: 1.0765 - val_accuracy: 0.5982 - lr: 0.0010\n",
            "Epoch 29/50\n",
            "898/898 [==============================] - 533s 594ms/step - loss: 1.1693 - accuracy: 0.5586 - val_loss: 1.0220 - val_accuracy: 0.6166 - lr: 0.0010\n",
            "Epoch 30/50\n",
            "898/898 [==============================] - 543s 605ms/step - loss: 1.1709 - accuracy: 0.5581 - val_loss: 1.0594 - val_accuracy: 0.6041 - lr: 0.0010\n",
            "Epoch 31/50\n",
            "898/898 [==============================] - 546s 608ms/step - loss: 1.1662 - accuracy: 0.5597 - val_loss: 1.0741 - val_accuracy: 0.5925 - lr: 0.0010\n",
            "Epoch 32/50\n",
            "898/898 [==============================] - 554s 617ms/step - loss: 1.1469 - accuracy: 0.5674 - val_loss: 1.0548 - val_accuracy: 0.6010 - lr: 0.0010\n",
            "Epoch 33/50\n",
            "898/898 [==============================] - 546s 608ms/step - loss: 1.1516 - accuracy: 0.5657 - val_loss: 1.0290 - val_accuracy: 0.6174 - lr: 0.0010\n",
            "Epoch 34/50\n",
            "898/898 [==============================] - 540s 601ms/step - loss: 1.1469 - accuracy: 0.5715 - val_loss: 1.0471 - val_accuracy: 0.5989 - lr: 0.0010\n",
            "Epoch 35/50\n",
            "898/898 [==============================] - 544s 606ms/step - loss: 1.1240 - accuracy: 0.5765 - val_loss: 0.9893 - val_accuracy: 0.6318 - lr: 2.0000e-04\n",
            "Epoch 36/50\n",
            "898/898 [==============================] - 560s 624ms/step - loss: 1.1171 - accuracy: 0.5811 - val_loss: 0.9819 - val_accuracy: 0.6329 - lr: 2.0000e-04\n",
            "Epoch 37/50\n",
            "898/898 [==============================] - 551s 613ms/step - loss: 1.1173 - accuracy: 0.5808 - val_loss: 0.9817 - val_accuracy: 0.6343 - lr: 2.0000e-04\n",
            "Epoch 38/50\n",
            "898/898 [==============================] - 538s 600ms/step - loss: 1.1078 - accuracy: 0.5832 - val_loss: 0.9797 - val_accuracy: 0.6317 - lr: 2.0000e-04\n",
            "Epoch 39/50\n",
            "898/898 [==============================] - 540s 601ms/step - loss: 1.1091 - accuracy: 0.5815 - val_loss: 0.9823 - val_accuracy: 0.6342 - lr: 2.0000e-04\n",
            "Epoch 40/50\n",
            "898/898 [==============================] - 551s 613ms/step - loss: 1.0956 - accuracy: 0.5862 - val_loss: 0.9714 - val_accuracy: 0.6354 - lr: 2.0000e-04\n",
            "Epoch 41/50\n",
            "898/898 [==============================] - 552s 614ms/step - loss: 1.1029 - accuracy: 0.5902 - val_loss: 0.9764 - val_accuracy: 0.6360 - lr: 2.0000e-04\n",
            "Epoch 42/50\n",
            "898/898 [==============================] - 551s 613ms/step - loss: 1.0953 - accuracy: 0.5898 - val_loss: 0.9649 - val_accuracy: 0.6397 - lr: 2.0000e-04\n",
            "Epoch 43/50\n",
            "898/898 [==============================] - 562s 626ms/step - loss: 1.0942 - accuracy: 0.5877 - val_loss: 0.9722 - val_accuracy: 0.6372 - lr: 2.0000e-04\n",
            "Epoch 44/50\n",
            "898/898 [==============================] - 556s 619ms/step - loss: 1.0954 - accuracy: 0.5890 - val_loss: 0.9707 - val_accuracy: 0.6371 - lr: 2.0000e-04\n",
            "Epoch 45/50\n",
            "898/898 [==============================] - 560s 624ms/step - loss: 1.0897 - accuracy: 0.5899 - val_loss: 0.9708 - val_accuracy: 0.6378 - lr: 2.0000e-04\n",
            "Epoch 46/50\n",
            "898/898 [==============================] - 547s 610ms/step - loss: 1.0907 - accuracy: 0.5918 - val_loss: 0.9672 - val_accuracy: 0.6378 - lr: 2.0000e-04\n",
            "Epoch 47/50\n",
            "898/898 [==============================] - 549s 612ms/step - loss: 1.0920 - accuracy: 0.5903 - val_loss: 0.9654 - val_accuracy: 0.6358 - lr: 2.0000e-04\n",
            "Epoch 48/50\n",
            "898/898 [==============================] - 542s 604ms/step - loss: 1.0891 - accuracy: 0.5896 - val_loss: 0.9662 - val_accuracy: 0.6362 - lr: 1.0000e-04\n",
            "Epoch 49/50\n",
            "898/898 [==============================] - 551s 614ms/step - loss: 1.0827 - accuracy: 0.5962 - val_loss: 0.9607 - val_accuracy: 0.6388 - lr: 1.0000e-04\n",
            "Epoch 50/50\n",
            "898/898 [==============================] - 566s 630ms/step - loss: 1.0832 - accuracy: 0.5916 - val_loss: 0.9633 - val_accuracy: 0.6402 - lr: 1.0000e-04\n"
          ]
        }
      ],
      "source": [
        "history = model.fit(train_datagen.flow(X_train, y_train, batch_size=32),\n",
        "                    epochs=50,\n",
        "                    validation_data=val_datagen.flow(X_test, y_test, batch_size=32),\n",
        "                    callbacks=[reduce_lr])\n",
        "# loss: 1.0832 - accuracy: 0.5916 - val_loss: 0.9633 - val_accuracy: 0.6402"
      ]
    },
    {
      "cell_type": "markdown",
      "id": "v06yus6afGNc",
      "metadata": {
        "id": "v06yus6afGNc"
      },
      "source": [
        "## Step 8: Save model"
      ]
    },
    {
      "cell_type": "code",
      "execution_count": null,
      "id": "nJTeF1FMfGNc",
      "metadata": {
        "colab": {
          "base_uri": "https://localhost:8080/",
          "height": 17
        },
        "id": "nJTeF1FMfGNc",
        "outputId": "b0bcfd9b-a86b-438f-fd43-b725b923e13e"
      },
      "outputs": [
        {
          "output_type": "display_data",
          "data": {
            "text/plain": [
              "<IPython.core.display.Javascript object>"
            ],
            "application/javascript": [
              "\n",
              "    async function download(id, filename, size) {\n",
              "      if (!google.colab.kernel.accessAllowed) {\n",
              "        return;\n",
              "      }\n",
              "      const div = document.createElement('div');\n",
              "      const label = document.createElement('label');\n",
              "      label.textContent = `Downloading \"${filename}\": `;\n",
              "      div.appendChild(label);\n",
              "      const progress = document.createElement('progress');\n",
              "      progress.max = size;\n",
              "      div.appendChild(progress);\n",
              "      document.body.appendChild(div);\n",
              "\n",
              "      const buffers = [];\n",
              "      let downloaded = 0;\n",
              "\n",
              "      const channel = await google.colab.kernel.comms.open(id);\n",
              "      // Send a message to notify the kernel that we're ready.\n",
              "      channel.send({})\n",
              "\n",
              "      for await (const message of channel.messages) {\n",
              "        // Send a message to notify the kernel that we're ready.\n",
              "        channel.send({})\n",
              "        if (message.buffers) {\n",
              "          for (const buffer of message.buffers) {\n",
              "            buffers.push(buffer);\n",
              "            downloaded += buffer.byteLength;\n",
              "            progress.value = downloaded;\n",
              "          }\n",
              "        }\n",
              "      }\n",
              "      const blob = new Blob(buffers, {type: 'application/binary'});\n",
              "      const a = document.createElement('a');\n",
              "      a.href = window.URL.createObjectURL(blob);\n",
              "      a.download = filename;\n",
              "      div.appendChild(a);\n",
              "      a.click();\n",
              "      div.remove();\n",
              "    }\n",
              "  "
            ]
          },
          "metadata": {}
        },
        {
          "output_type": "display_data",
          "data": {
            "text/plain": [
              "<IPython.core.display.Javascript object>"
            ],
            "application/javascript": [
              "download(\"download_169fdb1b-d831-4736-aee8-057877015308\", \"emotion_model.hdf5\", 17392440)"
            ]
          },
          "metadata": {}
        }
      ],
      "source": [
        "model.save(\"emotion_model.hdf5\")\n",
        "files.download(\"emotion_model.hdf5\")"
      ]
    },
    {
      "cell_type": "markdown",
      "id": "5c2NP1NekXpj",
      "metadata": {
        "id": "5c2NP1NekXpj"
      },
      "source": [
        "## Plot accuracy"
      ]
    },
    {
      "cell_type": "code",
      "execution_count": null,
      "id": "bdf2gnlskb5a",
      "metadata": {
        "colab": {
          "base_uri": "https://localhost:8080/",
          "height": 452
        },
        "id": "bdf2gnlskb5a",
        "outputId": "2dca27cb-678e-4c95-ba84-997d5be1309f"
      },
      "outputs": [
        {
          "output_type": "display_data",
          "data": {
            "text/plain": [
              "<Figure size 640x480 with 1 Axes>"
            ],
            "image/png": "[encoded data removed]"
          },
          "metadata": {}
        }
      ],
      "source": [
        "plt.plot(history.history['accuracy'], label='train acc')\n",
        "plt.plot(history.history['val_accuracy'], label='val acc')\n",
        "plt.legend()\n",
        "plt.title(\"Training vs Validation Accuracy\")\n",
        "plt.show()"
      ]
    },
    {
      "cell_type": "markdown",
      "id": "abe96e85",
      "metadata": {
        "id": "abe96e85"
      },
      "source": [
        "**Reasoning**:\n",
        "Train the model using the data generator and the specified callback.\n",
        "\n"
      ]
    }
  ],
  "metadata": {
    "colab": {
      "provenance": []
    },
    "kernelspec": {
      "display_name": "Python 3",
      "name": "python3"
    },
    "language_info": {
      "name": "python",
      "version": "3.11"
    }
  },
  "nbformat": 4,
  "nbformat_minor": 5
}